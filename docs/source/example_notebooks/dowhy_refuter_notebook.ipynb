{
 "cells": [
  {
   "cell_type": "markdown",
   "metadata": {},
   "source": [
    "# Iterating over multiple refutation tests\n",
    "The objective of this notebook is to compare the ability of refuters to detect the problems in a given set of estimators.\n",
    "Note:\n",
    "This notebook makes use of the optional dependencies:\n",
    "- pygraphviz\n",
    "- causalml"
   ]
  },
  {
   "cell_type": "markdown",
   "metadata": {},
   "source": [
    "## Import Dependencies"
   ]
  },
  {
   "cell_type": "code",
   "execution_count": null,
   "metadata": {},
   "outputs": [],
   "source": [
    "from dowhy.datasets import linear_dataset\n",
    "from dowhy import CausalModel\n",
    "import causalml\n",
    "\n",
    "# Config dict to set the logging level\n",
    "import logging.config\n",
    "DEFAULT_LOGGING = {\n",
    "    'version': 1,\n",
    "    'disable_existing_loggers': False,\n",
    "    'loggers': {\n",
    "        '': {\n",
    "            'level': 'WARN',\n",
    "        },\n",
    "    }\n",
    "}\n",
    "\n",
    "logging.config.dictConfig(DEFAULT_LOGGING)\n",
    "# Disabling warnings output\n",
    "import warnings\n",
    "from sklearn.exceptions import DataConversionWarning\n",
    "warnings.filterwarnings(action='ignore', category=DataConversionWarning)"
   ]
  },
  {
   "cell_type": "markdown",
   "metadata": {},
   "source": [
    "## Inspection Parameters\n",
    "These parameters give us the option of inspecting the intermediate steps to sanity check the steps performed"
   ]
  },
  {
   "cell_type": "code",
   "execution_count": null,
   "metadata": {},
   "outputs": [],
   "source": [
    "inspect_datasets = True\n",
    "inspect_models = True\n",
    "inspect_identified_estimands = True\n",
    "inspect_estimates = True\n",
    "inspect_refutations = True"
   ]
  },
  {
   "cell_type": "markdown",
   "metadata": {},
   "source": [
    "## Estimator List\n",
    "We pass a list of strings, corresponding to the estimators of interest"
   ]
  },
  {
   "cell_type": "code",
   "execution_count": null,
   "metadata": {},
   "outputs": [],
   "source": [
    "estimator_list = [\"backdoor.propensity_score_matching\", \"backdoor.propensity_score_weighting\", \"backdoor.causalml.inference.meta.LRSRegressor\"]\n",
    "method_params= [ None, None, { \"init_params\":{} } ]"
   ]
  },
  {
   "cell_type": "markdown",
   "metadata": {},
   "source": [
    "## Refuter List\n",
    "A list of strings, corresponding to each refuter we wish to run"
   ]
  },
  {
   "cell_type": "code",
   "execution_count": null,
   "metadata": {},
   "outputs": [],
   "source": [
    "refuter_list = [\"bootstrap_refuter\", \"data_subset_refuter\"]"
   ]
  },
  {
   "cell_type": "markdown",
   "metadata": {},
   "source": [
    "## Create the Datasets"
   ]
  },
  {
   "cell_type": "code",
   "execution_count": null,
   "metadata": {},
   "outputs": [],
   "source": [
    "# Parameters for creating the Dataset\n",
    "TREATMENT_IS_BINARY = True\n",
    "BETA = 10\n",
    "NUM_SAMPLES = 5000\n",
    "NUM_CONFOUNDERS = 5\n",
    "NUM_INSTRUMENTS = 3\n",
    "NUM_EFFECT_MODIFIERS = 2\n",
    "\n",
    "# Creating a Linear Dataset with the given parameters\n",
    "linear_data = linear_dataset(\n",
    "            beta = BETA,\n",
    "            num_common_causes = NUM_CONFOUNDERS,\n",
    "            num_instruments = NUM_INSTRUMENTS,\n",
    "            num_effect_modifiers = NUM_EFFECT_MODIFIERS,\n",
    "            num_samples = NUM_SAMPLES,\n",
    "            treatment_is_binary = True\n",
    "        )\n",
    "# Other datasets come here \n",
    "\n",
    "\n",
    "# Append them together in an array\n",
    "datasets = [linear_data]\n"
   ]
  },
  {
   "cell_type": "markdown",
   "metadata": {},
   "source": [
    "## Inspect Data"
   ]
  },
  {
   "cell_type": "code",
   "execution_count": null,
   "metadata": {},
   "outputs": [],
   "source": [
    "dataset_num = 1\n",
    "if inspect_datasets is True:\n",
    "    for data in datasets:\n",
    "        print(\"####### Dataset {}###########################################################################################\".format(dataset_num))\n",
    "        print(data['df'].head())\n",
    "        print(\"#############################################################################################################\")\n",
    "        dataset_num += 1"
   ]
  },
  {
   "cell_type": "markdown",
   "metadata": {},
   "source": [
    "## Create the CausalModels"
   ]
  },
  {
   "cell_type": "code",
   "execution_count": null,
   "metadata": {},
   "outputs": [],
   "source": [
    "models = []\n",
    "for data in datasets:\n",
    "    model = CausalModel(\n",
    "                data = data['df'],\n",
    "                treatment = data['treatment_name'],\n",
    "                outcome = data['outcome_name'],\n",
    "                graph = data['gml_graph']\n",
    "            )\n",
    "    models.append(model)"
   ]
  },
  {
   "cell_type": "markdown",
   "metadata": {},
   "source": [
    "## Inspect Models"
   ]
  },
  {
   "cell_type": "code",
   "execution_count": null,
   "metadata": {},
   "outputs": [],
   "source": [
    "model_num = 1\n",
    "if inspect_models is True:\n",
    "    for model in models:\n",
    "        print(\"####### Model {}#############################################################################################\".format(model_num))\n",
    "        print(\"Common Causes:\",model._common_causes)\n",
    "        print(\"Effect Modifiers:\",model._effect_modifiers)\n",
    "        print(\"Instruments:\",model._instruments)\n",
    "        print(\"Outcome:\",model._outcome)\n",
    "        print(\"Treatment:\",model._treatment)\n",
    "        print(\"#############################################################################################################\")\n",
    "        model_num += 1"
   ]
  },
  {
   "cell_type": "markdown",
   "metadata": {},
   "source": [
    "## Identify Effect"
   ]
  },
  {
   "cell_type": "code",
   "execution_count": null,
   "metadata": {},
   "outputs": [],
   "source": [
    "identified_estimands = []\n",
    "for model in models:\n",
    "    identified_estimand = model.identify_effect(proceed_when_unidentifiable=True)\n",
    "    identified_estimands.append(identified_estimand)"
   ]
  },
  {
   "cell_type": "markdown",
   "metadata": {},
   "source": [
    "## Identified Estimands"
   ]
  },
  {
   "cell_type": "code",
   "execution_count": null,
   "metadata": {},
   "outputs": [],
   "source": [
    "estimand_count = 1\n",
    "for estimand in identified_estimands:\n",
    "    print(\"####### Identified Estimand {}#####################################################################################\".format(estimand_count))\n",
    "    print(estimand)\n",
    "    print(\"###################################################################################################################\")\n",
    "    estimand_count += 1"
   ]
  },
  {
   "cell_type": "markdown",
   "metadata": {},
   "source": [
    "## Estimate Effect"
   ]
  },
  {
   "cell_type": "code",
   "execution_count": null,
   "metadata": {},
   "outputs": [],
   "source": [
    "estimate_list = []\n",
    "for i in range(len(identified_estimands)):\n",
    "    for j in range(len(estimator_list)):\n",
    "        estimate = model.estimate_effect(\n",
    "                        identified_estimands[i],\n",
    "                        method_name=estimator_list[j],\n",
    "                        method_params=method_params[j]\n",
    "                  )\n",
    "        estimate_list.append(estimate)"
   ]
  },
  {
   "cell_type": "markdown",
   "metadata": {},
   "source": [
    "## Estimate Values"
   ]
  },
  {
   "cell_type": "code",
   "execution_count": null,
   "metadata": {},
   "outputs": [],
   "source": [
    "estimand_count = 1\n",
    "if inspect_estimates is True:\n",
    "    for estimand in estimate_list:\n",
    "        print(\"####### Estimand {}#######################################################################################\".format(estimand_count))\n",
    "        print(\"*** Class Name ***\")\n",
    "        print()\n",
    "        print(estimand.params['estimator_class'])\n",
    "        print()\n",
    "        print(estimand)\n",
    "        print(\"########################################################################################################\")\n",
    "        print()\n",
    "        estimand_count += 1\n",
    "    "
   ]
  },
  {
   "cell_type": "markdown",
   "metadata": {},
   "source": [
    "## Refute Estimate"
   ]
  },
  {
   "cell_type": "code",
   "execution_count": null,
   "metadata": {},
   "outputs": [],
   "source": [
    "refutation_list = []\n",
    "for estimand in identified_estimands:\n",
    "    for estimate in estimate_list: \n",
    "        for refuter in refuter_list:\n",
    "            ref = model.refute_estimate(estimand, estimate,method_name=refuter)\n",
    "            refutation_list.append(ref)"
   ]
  },
  {
   "cell_type": "markdown",
   "metadata": {},
   "source": [
    "## Refutation Values"
   ]
  },
  {
   "cell_type": "code",
   "execution_count": null,
   "metadata": {},
   "outputs": [],
   "source": [
    "refuter_count = 1\n",
    "if inspect_refutations is True:\n",
    "    for refutation in refutation_list:\n",
    "        print(\"####### Refutation {}#######################################################################################\".format(refuter_count))\n",
    "        print(\"*** Class Name ***\")\n",
    "        print()\n",
    "        print(refutation.refutation_type)\n",
    "        print()\n",
    "        print(refutation)\n",
    "        print(\"########################################################################################################\")\n",
    "        print()\n",
    "        refuter_count += 1"
   ]
  }
 ],
 "metadata": {
  "kernelspec": {
   "display_name": "Python 3",
   "language": "python",
   "name": "python3"
  },
  "language_info": {
   "codemirror_mode": {
    "name": "ipython",
    "version": 3
   },
   "file_extension": ".py",
   "mimetype": "text/x-python",
   "name": "python",
   "nbconvert_exporter": "python",
   "pygments_lexer": "ipython3",
   "version": "3.8.5"
  },
  "toc": {
   "base_numbering": 1,
   "nav_menu": {},
   "number_sections": false,
   "sideBar": true,
   "skip_h1_title": true,
   "title_cell": "Table of Contents",
   "title_sidebar": "Contents",
   "toc_cell": false,
   "toc_position": {},
   "toc_section_display": true,
   "toc_window_display": false
  }
 },
 "nbformat": 4,
 "nbformat_minor": 4
}
